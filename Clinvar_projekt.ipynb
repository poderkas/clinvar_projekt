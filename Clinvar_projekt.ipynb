{
 "cells": [
  {
   "cell_type": "markdown",
   "metadata": {
    "id": "CSnBkNcarB-H"
   },
   "source": [
    "# **Tulbad:**\n",
    "\n",
    "\n",
    "*   Kollased - välja võtta\n",
    "*   Sinised - lahku lüüa \"/\"\n",
    "*   Beež - küsitav\n",
    "\n",
    "\n",
    "\n",
    "\n",
    "\n"
   ]
  },
  {
   "cell_type": "code",
   "execution_count": 1,
   "metadata": {
    "id": "zAKKYYtI7tWi"
   },
   "outputs": [
    {
     "name": "stderr",
     "output_type": "stream",
     "text": [
      "C:\\ProgramData\\Anaconda3\\lib\\site-packages\\IPython\\core\\interactiveshell.py:3071: DtypeWarning: Columns (0,38,40) have mixed types.Specify dtype option on import or set low_memory=False.\n",
      "  has_raised = await self.run_ast_nodes(code_ast.body, cell_name,\n"
     ]
    }
   ],
   "source": [
    "import numpy as np\n",
    "import pandas as pd\n",
    "from copy import *\n",
    "import numbers\n",
    "# TODO\n",
    "data = pd.read_csv(\"clinvar_conflicting.csv\")\n",
    "data1 = deepcopy(data)\n",
    "\n",
    "#muudame nende tulpade sisu\n",
    "data1[[\"Amino_acids algne\", \"Amino_acids asendus\"]] = data1.Amino_acids.str.split(\"/\",expand=True)\n",
    "data1[[\"Codons algne\", \"Codons asendus\"]] = data1.Codons.str.split(\"/\",expand=True)\n",
    "#eemaldame mittevajalikud tulbad\n",
    "välja = [\"CLNDNINCL\", \"CLNSIGINCL\", \"Allele\", \"Amino_acids\", \"Codons\", \"CLNDN\", \"CLNDISDB\", \"CLNDISDBINCL\", \"CLNHGVS\", \"CLNVI\", \"MC\", \"SSR\", \"Feature_type\", \"Feature\", \"DISTANCE\", \"BAM_EDIT\", \"MOTIF_NAME\", \"MOTIF_POS\", \"HIGH_INF_POS\", \"MOTIF_SCORE_CHANGE\"]\n",
    "for i in välja:\n",
    "\tdata1 = data1.drop(labels=[i], axis=1)\n",
    "\n",
    "    \n",
    "#defineerime tulpade andmetüübid\n",
    "#muudame nende tulpade sisu\n",
    "\n",
    "#LIHTSASTI DEFINEERITAVAD TULBAD\n",
    "inttüüpi = [\"POS\", \"ORIGIN\", \"CLASS\"]\n",
    "floattüüpi = [\"AF_ESP\", \"AF_EXAC\", \"AF_TGP\", \"LoFtool\", \"CADD_PHRED\", \"CADD_RAW\" ,  \"STRAND\", \"BLOSUM62\" ]\n",
    "strtüüpi = [\"REF\", \"ALT\", \"Consequence\", \"IMPACT\", \"SYMBOL\", \"BIOTYPE\" , \"CLNVC\", \"IMPACT\", \"SIFT\", \"PolyPhen\", \"cDNA_position\" , \"CDS_position\", \"Protein_position\"]\n",
    "\n",
    "def datatypes(inttüüpi, strtüüpi, floattüüpi):\n",
    "  for i in range(len(inttüüpi)):\n",
    "      data1[inttüüpi[i]]=data1[inttüüpi[i]].astype(int)\n",
    "\n",
    "  for i in range(len(strtüüpi)):\n",
    "      data1[strtüüpi[i]]=data1[strtüüpi[i]].astype(str)\n",
    "  \n",
    "  for i in range(len(floattüüpi)):\n",
    "      data1[floattüüpi[i]]=data1[floattüüpi[i]].astype(float)\n",
    "      \n",
    "datatypes(inttüüpi, strtüüpi, floattüüpi)\n",
    "#ISIKLIKKU LÄHENEMIST VAJAVAD TULBAD\n",
    "##CHROM\n",
    "data1[\"CHROM\"]=data1[\"CHROM\"].astype(str)\n",
    "data1.loc[data1[\"CHROM\"] == \"X\", \"CHROM\"] = \"23\"\n",
    "data1.loc[data1[\"CHROM\"] == \"MT\", \"CHROM\"] = \"24\""
   ]
  },
  {
   "cell_type": "code",
   "execution_count": 2,
   "metadata": {
    "colab": {
     "base_uri": "https://localhost:8080/",
     "height": 326
    },
    "id": "XZt4iHtf7tsy",
    "outputId": "89929794-1ce5-4891-bfaa-d13da86a2ea6"
   },
   "outputs": [
    {
     "name": "stdout",
     "output_type": "stream",
     "text": [
      "0         552\n",
      "1         523\n",
      "2         632\n",
      "3         132\n",
      "4         132\n",
      "         ... \n",
      "65183    4035\n",
      "65184    3118\n",
      "65185    1257\n",
      "65186     822\n",
      "65187     791\n",
      "Name: cDNA_pos_end, Length: 65188, dtype: object\n",
      "65188\n"
     ]
    }
   ],
   "source": [
    "pd.set_option('display.max_columns', None)\n",
    "data1[\"EXON\"]=data1[\"EXON\"].astype(str)\n",
    "data1[\"INTRON\"]=data1[\"INTRON\"].astype(str)\n",
    "\n",
    "data1.loc[data1[\"EXON\"] == data1[\"INTRON\"], [\"INTRON\", \"EXON\"]] = \"TÕRGE\"\n",
    "data1.loc[(data1[\"EXON\"]!='nan') & (data1[\"INTRON\"]!='nan') & (data1[\"REF\"].str.len() == 1), [\"INTRON\", \"EXON\"]] = \"TÕRGE\" #kõik need eksonid ja intronid TÕRKEKS, kui nad mõlemad pole real tühjad\n",
    "data1[data1[\"INTRON\"] == \"TÕRGE\"]\n",
    "\n",
    "#CDNA, CDS ja protein tulpade töötlus\n",
    "data1[[\"cDNA_pos_start\" , \"cDNA_pos_end\"]] = data1.cDNA_position.str.split(\"-\",expand=True)\n",
    "data1[[\"CDS_pos_start\" , \"CDS_pos_end\"]] = data1.CDS_position.str.split(\"-\",expand=True)\n",
    "data1[[\"Protein_pos_start\" , \"Protein_pos_end\"]] = data1.Protein_position.str.split(\"-\",expand=True)\n",
    "\n",
    "\n",
    "data1.loc[data1[\"cDNA_pos_end\"].isnull(), \"cDNA_pos_end\"] =data1[\"cDNA_pos_start\"]\n",
    "data1.loc[data1[\"CDS_pos_end\"].isnull(), \"CDS_pos_end\"] =data1[\"CDS_pos_start\"]\n",
    "data1.loc[data1[\"Protein_pos_end\"].isnull(), \"Protein_pos_end\"] =data1[\"Protein_pos_start\"]\n",
    "\n",
    "data1.loc[data1[\"cDNA_pos_end\"].str.contains(\"?\", regex=False, na=False), \"cDNA_pos_end\"] = np.nan\n",
    "data1.loc[data1[\"CDS_pos_end\"].str.contains(\"?\", regex=False, na=False), \"CDS_pos_end\"] = np.nan\n",
    "data1.loc[data1[\"Protein_pos_end\"].str.contains(\"?\", regex=False, na=False), \"Protein_pos_end\"] = np.nan"
   ]
  },
  {
   "cell_type": "code",
   "execution_count": 3,
   "metadata": {
    "colab": {
     "base_uri": "https://localhost:8080/"
    },
    "id": "TCLY_ELe3Bnj",
    "outputId": "da9ec3bd-aeef-454a-880d-54af7d853b06"
   },
   "outputs": [],
   "source": [
    "data1 = pd.get_dummies(data1,columns=[\"REF\", \"ALT\", \"CLNVC\", \"Consequence\", \"IMPACT\", \"SYMBOL\", \"BIOTYPE\",\"SIFT\",\"PolyPhen\",\"Amino_acids algne\",\"Amino_acids asendus\",\"Codons algne\",\"Codons asendus\"], dummy_na=True)\n",
    "\n",
    "\n",
    "#RandomForestClassifier\n",
    "#jagamine testing ja training setiks\n",
    "\n",
    "#X_train, X_test, y_train, y_test = train_test_split(data1.drop(labels='CLASS',axis=1),data1.CLASS,train_size=0.7,random_state=0)\n",
    "\n",
    "\n",
    "#mudeli fittimine\n",
    "\n",
    "#rf = RandomForestClassifier(n_estimators=100,max_depth=4,random_state=0).fit(X_train, y_train)\n",
    "\n",
    "#accuracy score testing seti peal\n",
    "\n",
    "#acc_score=accuracy_score(X_test.values, y_test)\n",
    "#print(\"Accuracy score:\\n%s \" % acc_score)\n"
   ]
  }
 ],
 "metadata": {
  "colab": {
   "collapsed_sections": [],
   "name": "Clinvar projekt",
   "provenance": []
  },
  "kernelspec": {
   "display_name": "Python 3",
   "language": "python",
   "name": "python3"
  },
  "language_info": {
   "codemirror_mode": {
    "name": "ipython",
    "version": 3
   },
   "file_extension": ".py",
   "mimetype": "text/x-python",
   "name": "python",
   "nbconvert_exporter": "python",
   "pygments_lexer": "ipython3",
   "version": "3.8.3"
  }
 },
 "nbformat": 4,
 "nbformat_minor": 1
}

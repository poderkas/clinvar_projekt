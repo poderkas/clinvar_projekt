{
 "cells": [
  {
   "cell_type": "markdown",
   "metadata": {
    "id": "CSnBkNcarB-H"
   },
   "source": [
    "# **Tulbad:**\n",
    "\n",
    "\n",
    "*   Kollased - välja võtta\n",
    "*   Sinised - lahku lüüa \"/\"\n",
    "*   Beež - küsitav\n",
    "\n",
    "\n",
    "\n",
    "\n",
    "\n"
   ]
  },
  {
   "cell_type": "code",
   "execution_count": 1,
   "metadata": {
    "id": "zAKKYYtI7tWi"
   },
   "outputs": [
    {
     "name": "stderr",
     "output_type": "stream",
     "text": [
      "C:\\ProgramData\\Anaconda3\\lib\\site-packages\\IPython\\core\\interactiveshell.py:3071: DtypeWarning: Columns (0,38,40) have mixed types.Specify dtype option on import or set low_memory=False.\n",
      "  has_raised = await self.run_ast_nodes(code_ast.body, cell_name,\n"
     ]
    }
   ],
   "source": [
    "import numpy as np\n",
    "import pandas as pd\n",
    "from copy import *\n",
    "import numbers\n",
    "# TODO\n",
    "data = pd.read_csv(\"clinvar_conflicting.csv\")\n",
    "data1 = deepcopy(data)"
   ]
  },
  {
   "cell_type": "code",
   "execution_count": 2,
   "metadata": {
    "colab": {
     "base_uri": "https://localhost:8080/",
     "height": 326
    },
    "id": "XZt4iHtf7tsy",
    "outputId": "89929794-1ce5-4891-bfaa-d13da86a2ea6"
   },
   "outputs": [],
   "source": [
    "#muudame nende tulpade sisu\n",
    "data1[[\"Amino_acids algne\", \"Amino_acids asendus\"]] = data1.Amino_acids.str.split(\"/\",expand=True)\n",
    "data1[[\"Codons algne\", \"Codons asendus\"]] = data1.Codons.str.split(\"/\",expand=True)\n",
    "#eemaldame mittevajalikud tulbad\n",
    "välja = [\"CLNDNINCL\", \"CLNSIGINCL\", \"Allele\", \"Amino_acids\", \"Codons\", \"CLNDN\", \"CLNDISDB\", \"CLNDISDBINCL\", \"CLNHGVS\", \"CLNVI\", \"MC\", \"SSR\", \"Feature_type\", \"Feature\", \"DISTANCE\", \"BAM_EDIT\", \"MOTIF_NAME\", \"MOTIF_POS\", \"HIGH_INF_POS\", \"MOTIF_SCORE_CHANGE\"]\n",
    "for i in välja:\n",
    "\tdata1 = data1.drop(labels=[i], axis=1)\n",
    "\n",
    "#ref tulp kõik mis on rohkem kui 1 täht\n",
    "data1.head()\n",
    "\n",
    "#LIHTSASTI DEFINEERITAVAD TULBAD\n",
    "inttüüpi = [\"POS\", \"ORIGIN\", \"CLASS\"]\n",
    "floattüüpi = [\"AF_ESP\", \"AF_EXAC\", \"AF_TGP\", \"LoFtool\", \"CADD_PHRED\", \"CADD_RAW\" ,  \"STRAND\", \"BLOSUM62\" ]\n",
    "strtüüpi = [\"REF\", \"ALT\", \"Consequence\", \"IMPACT\", \"SYMBOL\", \"BIOTYPE\" , \"CLNVC\", \"IMPACT\", \"SIFT\", \"PolyPhen\", \"Amino_acids algne\", \"Amino_acids asendus\", \"Codons algne\", \"Codons asendus\", \"cDNA_position\" , \"CDS_position\", \"Protein_position\"]\n",
    "\n",
    "\n",
    "def datatypes(inttüüpi, strtüüpi, floattüüpi):\n",
    "  for i in range(len(inttüüpi)):\n",
    "      data1[inttüüpi[i]]=data1[inttüüpi[i]].astype(int)\n",
    "\n",
    "  for i in range(len(strtüüpi)):\n",
    "      data1[strtüüpi[i]]=data1[strtüüpi[i]].astype(str)\n",
    "  \n",
    "  for i in range(len(floattüüpi)):\n",
    "      data1[floattüüpi[i]]=data1[floattüüpi[i]].astype(float)\n",
    "      \n",
    "datatypes(inttüüpi, strtüüpi, floattüüpi)\n",
    "#ISIKLIKKU LÄHENEMIST VAJAVAD TULBAD\n",
    "##CHROM\n",
    "data1[\"CHROM\"]=data1[\"CHROM\"].astype(str)\n",
    "data1.loc[data1[\"CHROM\"] == \"X\", \"CHROM\"] = \"23\"\n",
    "data1.loc[data1[\"CHROM\"] == \"MT\", \"CHROM\"] = \"24\""
   ]
  },
  {
   "cell_type": "code",
   "execution_count": 3,
   "metadata": {
    "colab": {
     "base_uri": "https://localhost:8080/"
    },
    "id": "TCLY_ELe3Bnj",
    "outputId": "da9ec3bd-aeef-454a-880d-54af7d853b06"
   },
   "outputs": [
    {
     "name": "stdout",
     "output_type": "stream",
     "text": [
      "      CHROM       POS REF ALT  AF_ESP  AF_EXAC  AF_TGP  \\\n",
      "5227     19   1397399   C   T  0.0002  0.00028  0.0000   \n",
      "5228     19   1397443   G   A  0.0712  0.07554  0.0365   \n",
      "5473     19  35530029   G   A  0.0002  0.00007  0.0000   \n",
      "5474     19  35530580   G   A  0.0003  0.00050  0.0004   \n",
      "6940      1  40539727   C   T  0.0000  0.00016  0.0000   \n",
      "...     ...       ...  ..  ..     ...      ...     ...   \n",
      "63480    24     15470   T   C  0.0000  0.00000  0.0000   \n",
      "63481    24     15511   T   C  0.0000  0.00000  0.0000   \n",
      "63482    24     15923   A   G  0.0000  0.00000  0.0000   \n",
      "64248    23  55057617   G   C  0.0000  0.00000  0.0027   \n",
      "64358    23  73641251   A   T  0.0009  0.00144  0.0000   \n",
      "\n",
      "                           CLNVC  ORIGIN  CLASS              Consequence  \\\n",
      "5227   single_nucleotide_variant       1      1  downstream_gene_variant   \n",
      "5228   single_nucleotide_variant       1      0  downstream_gene_variant   \n",
      "5473   single_nucleotide_variant       1      1    upstream_gene_variant   \n",
      "5474   single_nucleotide_variant       1      1    upstream_gene_variant   \n",
      "6940   single_nucleotide_variant       1      1  downstream_gene_variant   \n",
      "...                          ...     ...    ...                      ...   \n",
      "63480  single_nucleotide_variant       1      1       intergenic_variant   \n",
      "63481  single_nucleotide_variant       1      1       intergenic_variant   \n",
      "63482  single_nucleotide_variant       1      1       intergenic_variant   \n",
      "64248  single_nucleotide_variant       1      1    upstream_gene_variant   \n",
      "64358  single_nucleotide_variant       1      0    upstream_gene_variant   \n",
      "\n",
      "         IMPACT   SYMBOL         BIOTYPE   EXON INTRON cDNA_position  \\\n",
      "5227   MODIFIER   NDUFS7  protein_coding  TÕRGE  TÕRGE           nan   \n",
      "5228   MODIFIER   NDUFS7  protein_coding  TÕRGE  TÕRGE           nan   \n",
      "5473   MODIFIER      HPN  protein_coding  TÕRGE  TÕRGE           nan   \n",
      "5474   MODIFIER      HPN  protein_coding  TÕRGE  TÕRGE           nan   \n",
      "6940   MODIFIER     CAP1  protein_coding  TÕRGE  TÕRGE           nan   \n",
      "...         ...      ...             ...    ...    ...           ...   \n",
      "63480  MODIFIER      nan             nan  TÕRGE  TÕRGE           nan   \n",
      "63481  MODIFIER      nan             nan  TÕRGE  TÕRGE           nan   \n",
      "63482  MODIFIER      nan             nan  TÕRGE  TÕRGE           nan   \n",
      "64248  MODIFIER    ALAS2  protein_coding  TÕRGE  TÕRGE           nan   \n",
      "64358  MODIFIER  SLC16A2  protein_coding  TÕRGE  TÕRGE           nan   \n",
      "\n",
      "      CDS_position Protein_position  STRAND SIFT PolyPhen  LoFtool  \\\n",
      "5227           nan              nan     1.0  nan      nan    0.127   \n",
      "5228           nan              nan     1.0  nan      nan    0.127   \n",
      "5473           nan              nan     1.0  nan      nan      NaN   \n",
      "5474           nan              nan     1.0  nan      nan      NaN   \n",
      "6940           nan              nan     1.0  nan      nan      NaN   \n",
      "...            ...              ...     ...  ...      ...      ...   \n",
      "63480          nan              nan     NaN  nan      nan      NaN   \n",
      "63481          nan              nan     NaN  nan      nan      NaN   \n",
      "63482          nan              nan     NaN  nan      nan      NaN   \n",
      "64248          nan              nan    -1.0  nan      nan      NaN   \n",
      "64358          nan              nan     1.0  nan      nan      NaN   \n",
      "\n",
      "       CADD_PHRED  CADD_RAW  BLOSUM62 Amino_acids algne Amino_acids asendus  \\\n",
      "5227       22.700  3.206002       NaN               nan                 nan   \n",
      "5228       10.240  0.927789       NaN               nan                 nan   \n",
      "5473       16.290  2.012176       NaN               nan                 nan   \n",
      "5474       27.800  5.991076       NaN               nan                 nan   \n",
      "6940        0.247 -0.479761       NaN               nan                 nan   \n",
      "...           ...       ...       ...               ...                 ...   \n",
      "63480       2.860  0.027997       NaN               nan                 nan   \n",
      "63481       2.081 -0.055831       NaN               nan                 nan   \n",
      "63482       9.734  0.844303       NaN               nan                 nan   \n",
      "64248       1.927 -0.074507       NaN               nan                 nan   \n",
      "64358      12.800  1.402671       NaN               nan                 nan   \n",
      "\n",
      "      Codons algne Codons asendus  \n",
      "5227           nan            nan  \n",
      "5228           nan            nan  \n",
      "5473           nan            nan  \n",
      "5474           nan            nan  \n",
      "6940           nan            nan  \n",
      "...            ...            ...  \n",
      "63480          nan            nan  \n",
      "63481          nan            nan  \n",
      "63482          nan            nan  \n",
      "64248          nan            nan  \n",
      "64358          nan            nan  \n",
      "\n",
      "[133 rows x 30 columns]\n"
     ]
    }
   ],
   "source": [
    "pd.set_option('display.max_columns', None)\n",
    "data1[\"EXON\"]=data1[\"EXON\"].astype(str)\n",
    "data1[\"INTRON\"]=data1[\"INTRON\"].astype(str)\n",
    "\n",
    "data1.loc[(data1[\"EXON\"]!='nan') & (data1[\"INTRON\"]!='nan') & (data1[\"REF\"].str.len() == 1), [\"INTRON\", \"EXON\"]] = \"TÕRGE\"\n",
    "data1.loc[data1[\"EXON\"] == data1[\"INTRON\"], [\"INTRON\", \"EXON\"]] = \"TÕRGE\"\n",
    "\n",
    "\n",
    "print(data1[data1[\"INTRON\"] == \"TÕRGE\"])\n",
    "\n",
    "data1[\"EXON\"].str.contains('oct').tolist().count(True)\n",
    "#vaja on, et NaN'idest tekiksid eraldi tulbad mille saaks droppida\n",
    "#vaja on midagi exonite ja intronitega teha: kui on variant eksonism ei saa ta intronis enam olla ja vastupidi\n",
    "\n",
    "\n",
    "\n",
    "#CDNA, CDS ja protein tulpade töötlus\n",
    "data1[[\"cDNA_pos_start\" , \"cDNA_pos_end\"]] = data1.cDNA_position.str.split(\"-\",expand=True)\n",
    "data1[[\"CDS_pos_start\" , \"CDS_pos_end\"]] = data1.CDS_position.str.split(\"-\",expand=True)\n",
    "data1[[\"Protein_pos_start\" , \"Protein_pos_end\"]] = data1.Protein_position.str.split(\"-\",expand=True)\n",
    "\n",
    "data1.loc[data1[\"cDNA_pos_end\"] == 'nan', \"cDNA_pos_end\"] = data1[\"cDNA_pos_start\"]\n",
    "data1.loc[data1[\"CDS_pos_end\"] == 'nan', \"CDS_pos_end\"] = data1[\"CDS_pos_start\"]\n",
    "data1.loc[data1[\"Protein_pos_end\"] == 'nan', \"Protein_pos_end\"] = data1[\"Protein_pos_start\"]\n",
    "\n",
    "data1.loc[data1[\"cDNA_position\"].str.contains(\"?\"), [\"cDNA_position\"]] = np.nan"
   ]
  },
  {
   "cell_type": "code",
   "execution_count": 4,
   "metadata": {
    "colab": {
     "base_uri": "https://localhost:8080/"
    },
    "id": "xnCYSGUz7gjk",
    "outputId": "83d32610-b837-4913-9c32-dc24f4669941"
   },
   "outputs": [],
   "source": [
    "data1 = pd.get_dummies(data1,columns=list(data1.select_dtypes('object')))\n"
   ]
  },
  {
   "cell_type": "code",
   "execution_count": null,
   "metadata": {},
   "outputs": [],
   "source": []
  }
 ],
 "metadata": {
  "colab": {
   "collapsed_sections": [],
   "name": "Clinvar projekt",
   "provenance": []
  },
  "kernelspec": {
   "display_name": "Python 3",
   "language": "python",
   "name": "python3"
  },
  "language_info": {
   "codemirror_mode": {
    "name": "ipython",
    "version": 3
   },
   "file_extension": ".py",
   "mimetype": "text/x-python",
   "name": "python",
   "nbconvert_exporter": "python",
   "pygments_lexer": "ipython3",
   "version": "3.8.3"
  }
 },
 "nbformat": 4,
 "nbformat_minor": 1
}
